{
 "cells": [
  {
   "cell_type": "code",
   "execution_count": 1,
   "metadata": {
    "execution": {
     "iopub.execute_input": "2024-10-28T14:11:44.502028Z",
     "iopub.status.busy": "2024-10-28T14:11:44.501060Z",
     "iopub.status.idle": "2024-10-28T14:11:44.507535Z",
     "shell.execute_reply": "2024-10-28T14:11:44.507535Z"
    }
   },
   "outputs": [],
   "source": [
    "import numpy as np\n",
    "import matplotlib.pyplot as plt\n",
    "import sys\n",
    "import json\n",
    "\n",
    "sys.path.append('../../')\n",
    "from params import *"
   ]
  },
  {
   "cell_type": "code",
   "execution_count": null,
   "metadata": {},
   "outputs": [],
   "source": [
    "infofile = open(infofile_name, \"r\")\n",
    "info = json.load(infofile)\n",
    "infofile.close()\n",
    "\n",
    "print(\"Сетка по x: [0, \", info[\"END_X\"], \"] с шагом \", info[\"STEP_X\"], sep=\"\")\n",
    "print(\"Сетка по t: [0, \", info[\"END_T\"], \"] с шагом \", info[\"STEP_T\"], sep=\"\")\n",
    "print()\n",
    "print(\"Начальное распределение задавалось функцией \", info[\"FUNC_GENERATOR\"], sep=\"\")\n",
    "print()\n",
    "print(\"Информация об эксперименте\")\n",
    "print(info[\"EXPERIMENT_INFO\"])"
   ]
  },
  {
   "cell_type": "code",
   "execution_count": 2,
   "metadata": {},
   "outputs": [],
   "source": [
    "size_x = (int) (END_X / STEP_X)\n",
    "size_t = (int) (END_T / STEP_T)\n",
    "\n",
    "grid_x = np.linspace(0, END_X, size_x + 1)"
   ]
  },
  {
   "cell_type": "code",
   "execution_count": null,
   "metadata": {},
   "outputs": [],
   "source": [
    "input_func = np.genfromtxt(input_dir + datafile_name + datafile_format, delimiter=',')\n",
    "\n",
    "plt.plot(grid_x, input_func)\n",
    "plt.show()"
   ]
  },
  {
   "cell_type": "code",
   "execution_count": null,
   "metadata": {},
   "outputs": [],
   "source": [
    "output_func = np.genfromtxt(output_dir + datafile_name + datafile_format, delimiter=',')\n",
    "val_func = np.genfromtxt(val_dir + datafile_name + datafile_format, delimiter=',')\n",
    "\n",
    "plt.plot(grid_x, output_func)\n",
    "plt.plot(grid_x, val_func, c='r')\n",
    "plt.show()"
   ]
  }
 ],
 "metadata": {
  "kernelspec": {
   "display_name": "venv",
   "language": "python",
   "name": "python3"
  },
  "language_info": {
   "codemirror_mode": {
    "name": "ipython",
    "version": 3
   },
   "file_extension": ".py",
   "mimetype": "text/x-python",
   "name": "python",
   "nbconvert_exporter": "python",
   "pygments_lexer": "ipython3",
   "version": "3.11.5"
  }
 },
 "nbformat": 4,
 "nbformat_minor": 2
}
